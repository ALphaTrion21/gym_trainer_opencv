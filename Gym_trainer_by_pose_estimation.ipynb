{
 "cells": [
  {
   "cell_type": "code",
   "execution_count": 1,
   "metadata": {},
   "outputs": [
    {
     "ename": "ModuleNotFoundError",
     "evalue": "No module named 'mediapipe'",
     "output_type": "error",
     "traceback": [
      "\u001b[1;31m---------------------------------------------------------------------------\u001b[0m",
      "\u001b[1;31mModuleNotFoundError\u001b[0m                       Traceback (most recent call last)",
      "Cell \u001b[1;32mIn[1], line 3\u001b[0m\n\u001b[0;32m      1\u001b[0m \u001b[38;5;28;01mimport\u001b[39;00m \u001b[38;5;21;01mnumpy\u001b[39;00m \u001b[38;5;28;01mas\u001b[39;00m \u001b[38;5;21;01mnp\u001b[39;00m \n\u001b[0;32m      2\u001b[0m \u001b[38;5;28;01mimport\u001b[39;00m \u001b[38;5;21;01mcv2\u001b[39;00m\n\u001b[1;32m----> 3\u001b[0m \u001b[38;5;28;01mimport\u001b[39;00m \u001b[38;5;21;01mmediapipe\u001b[39;00m \u001b[38;5;28;01mas\u001b[39;00m \u001b[38;5;21;01mmp\u001b[39;00m\n\u001b[0;32m      4\u001b[0m \u001b[38;5;28;01mimport\u001b[39;00m \u001b[38;5;21;01mtime\u001b[39;00m\n\u001b[0;32m      5\u001b[0m \u001b[38;5;28;01mimport\u001b[39;00m \u001b[38;5;21;01mhumanposemodule\u001b[39;00m \u001b[38;5;28;01mas\u001b[39;00m \u001b[38;5;21;01mhpm\u001b[39;00m\n",
      "\u001b[1;31mModuleNotFoundError\u001b[0m: No module named 'mediapipe'"
     ]
    }
   ],
   "source": [
    "import numpy as np \n",
    "import cv2\n",
    "import mediapipe as mp\n",
    "import time\n",
    "import humanposemodule as hpm\n",
    "\n",
    "cap = cv2.VideoCapture(\"test1.mp4\")\n",
    "\n",
    "previous_time = 0\n",
    "current_time = 0\n",
    "\n",
    "posedetect = hpm.poseDetector(detection_confident=0.8)\n",
    "\n",
    "count = 0\n",
    "direction = 0  # two directions 0 = up, 100 = down\n",
    "\n",
    "while True:\n",
    "    \n",
    "    check, frame = cap.read()\n",
    "    \n",
    "    if check == True:\n",
    "    \n",
    "        #frame = cv2.imread(\"boy_exercise.jpg\")\n",
    "        frame = cv2.resize(frame, (1280,720))\n",
    "        frame = posedetect.findpose(frame, draw_landmark=False)\n",
    "        lmlist = posedetect.findlocation(frame, draw_landmark=False)\n",
    "\n",
    "        if len(lmlist) != 0:\n",
    "            \n",
    "            # Left arm\n",
    "            # posedetect.findangle(frame, 11, 13, 15)\n",
    "\n",
    "            # Right arm\n",
    "            angle = posedetect.findangle(frame, 12, 14, 16)\n",
    "            per = np.interp(angle, (180, 340), (0,100))\n",
    "            bar = np.interp(angle, (180, 340), (650,100))\n",
    "            \n",
    "            color = (0,255,255)\n",
    "            \n",
    "            # count number of time \n",
    "            if per == 100:\n",
    "                color = (0,0,255)\n",
    "                if direction == 0:\n",
    "                    count += 0.5\n",
    "                    direction = 1\n",
    "            \n",
    "            if per == 0:\n",
    "                color = (0,0,255)\n",
    "                if direction == 1:\n",
    "                    count += 0.5\n",
    "                    direction = 0\n",
    "            \n",
    "            # Bar\n",
    "            cv2.rectangle(frame, (1100,100), (1175,650), color, 3)\n",
    "            cv2.rectangle(frame, (1100,int(bar)), (1175,650), color, cv2.FILLED)\n",
    "            cv2.putText(frame, str(int(per))+\"%\", (1100,75), cv2.FONT_HERSHEY_PLAIN, 3, (255,0,0), 3)\n",
    "            \n",
    "            # Count\n",
    "            cv2.rectangle(frame, (0,450), (250,720), (0,255,255), cv2.FILLED)\n",
    "            cv2.putText(frame, str(int(count)), (60,600), cv2.FONT_HERSHEY_PLAIN, 10, (255,0,0), 8)\n",
    "            \n",
    "            \n",
    "        current_time = time.time()\n",
    "        fps = 1 / (current_time - previous_time)\n",
    "        previous_time = current_time\n",
    "\n",
    "        cv2.putText(frame, \"frame rate: \"+str(int(fps)), (10,70), cv2.FONT_HERSHEY_PLAIN, 5, (0,255,255), 5)\n",
    "\n",
    "        cv2.imshow('Gym Trainer', frame)\n",
    "\n",
    "        if cv2.waitKey(1) & 0xFF == ord('q'):\n",
    "            break\n",
    "    \n",
    "    else:\n",
    "        break\n",
    "\n",
    "cap.release()\n",
    "cv2.destroyAllWindows()"
   ]
  },
  {
   "cell_type": "code",
   "execution_count": 2,
   "metadata": {},
   "outputs": [
    {
     "name": "stdout",
     "output_type": "stream",
     "text": [
      "Note: you may need to restart the kernel to use updated packages.\n"
     ]
    },
    {
     "name": "stderr",
     "output_type": "stream",
     "text": [
      "ERROR: Could not find a version that satisfies the requirement mediapipe (from versions: none)\n",
      "ERROR: No matching distribution found for mediapipe\n"
     ]
    }
   ],
   "source": [
    "pip install mediapipe"
   ]
  },
  {
   "cell_type": "code",
   "execution_count": null,
   "metadata": {},
   "outputs": [],
   "source": []
  }
 ],
 "metadata": {
  "kernelspec": {
   "display_name": "Python 3",
   "language": "python",
   "name": "python3"
  },
  "language_info": {
   "codemirror_mode": {
    "name": "ipython",
    "version": 3
   },
   "file_extension": ".py",
   "mimetype": "text/x-python",
   "name": "python",
   "nbconvert_exporter": "python",
   "pygments_lexer": "ipython3",
   "version": "3.12.0"
  }
 },
 "nbformat": 4,
 "nbformat_minor": 4
}
